{
 "cells": [
  {
   "cell_type": "code",
   "execution_count": 2,
   "metadata": {},
   "outputs": [],
   "source": [
    "import numpy as np\n",
    "import tensorflow as tf\n",
    "from tensorflow import keras"
   ]
  },
  {
   "cell_type": "code",
   "execution_count": 3,
   "metadata": {},
   "outputs": [],
   "source": [
    "def one_hot(values,n_values=10):\n",
    "    n_v = np.maximum(n_values,np.max(values) + 1)\n",
    "    oh = np.eye(n_v)[values]\n",
    "    return oh"
   ]
  },
  {
   "cell_type": "code",
   "execution_count": 4,
   "metadata": {},
   "outputs": [],
   "source": [
    "X = np.load('data/MNIST.npy').reshape(-1,28,28,1).astype(np.float64) / 255.\n",
    "Y = one_hot(np.load('data/MNIST_labels.npy'))\n",
    "train_set = (X[:50000], Y[:50000])\n",
    "val_set = (X[50000:60000], Y[50000:60000])\n",
    "test_set = (X[60000:70000], Y[60000:70000])"
   ]
  },
  {
   "cell_type": "code",
   "execution_count": 6,
   "metadata": {},
   "outputs": [],
   "source": [
    "# build the model\n",
    "model = keras.models.Sequential()\n",
    "model.add(keras.layers.InputLayer((28,28,1)))\n",
    "model.add(keras.layers.Conv2D(filters=16, kernel_size=(3,3), padding='same', activation='relu'))\n",
    "model.add(keras.layers.MaxPool2D())\n",
    "model.add(keras.layers.Dropout(rate=0.4))\n",
    "model.add(keras.layers.Conv2D(filters=32, kernel_size=(3,3), padding='same', activation='relu'))\n",
    "model.add(keras.layers.MaxPool2D())\n",
    "model.add(keras.layers.Dropout(rate=0.4))\n",
    "model.add(keras.layers.Flatten())\n",
    "model.add(keras.layers.Dense(units=1024, activation='relu'))\n",
    "model.add(keras.layers.Dense(units=10, activation='softmax'))\n",
    "model.compile(optimizer=tf.train.AdadeltaOptimizer(0.1),\n",
    "              loss='categorical_crossentropy',\n",
    "              metrics=['accuracy'])"
   ]
  },
  {
   "cell_type": "code",
   "execution_count": 7,
   "metadata": {},
   "outputs": [
    {
     "name": "stdout",
     "output_type": "stream",
     "text": [
      "Train on 50000 samples, validate on 10000 samples\n",
      "WARNING:tensorflow:From /usr/local/lib/python3.7/site-packages/tensorflow/python/ops/math_ops.py:3066: to_int32 (from tensorflow.python.ops.math_ops) is deprecated and will be removed in a future version.\n",
      "Instructions for updating:\n",
      "Use tf.cast instead.\n",
      "Epoch 1/3\n",
      "50000/50000 [==============================] - 50s 1ms/sample - loss: 0.1362 - acc: 0.9507 - val_loss: 0.0599 - val_acc: 0.9801\n",
      "Epoch 2/3\n",
      "50000/50000 [==============================] - 50s 1ms/sample - loss: 0.0708 - acc: 0.9747 - val_loss: 0.0423 - val_acc: 0.9858\n",
      "Epoch 3/3\n",
      "50000/50000 [==============================] - 51s 1ms/sample - loss: 0.0555 - acc: 0.9803 - val_loss: 0.0337 - val_acc: 0.9889\n"
     ]
    },
    {
     "data": {
      "text/plain": [
       "<tensorflow.python.keras.callbacks.History at 0x13224c978>"
      ]
     },
     "execution_count": 7,
     "metadata": {},
     "output_type": "execute_result"
    }
   ],
   "source": [
    "model.fit(x=train_set[0], y=train_set[1],\n",
    "          epochs=3, batch_size=16,\n",
    "          shuffle=True,\n",
    "          validation_data=val_set)"
   ]
  },
  {
   "cell_type": "code",
   "execution_count": 8,
   "metadata": {},
   "outputs": [
    {
     "name": "stdout",
     "output_type": "stream",
     "text": [
      "10000/10000 [==============================] - 1s 136us/sample - loss: 0.0320 - acc: 0.9903\n"
     ]
    },
    {
     "data": {
      "text/plain": [
       "[0.031959015628695485, 0.99025977]"
      ]
     },
     "execution_count": 8,
     "metadata": {},
     "output_type": "execute_result"
    }
   ],
   "source": [
    "model.evaluate(test_set[0], test_set[1])"
   ]
  },
  {
   "cell_type": "code",
   "execution_count": null,
   "metadata": {},
   "outputs": [],
   "source": []
  }
 ],
 "metadata": {
  "kernelspec": {
   "display_name": "Python 3",
   "language": "python",
   "name": "python3"
  },
  "language_info": {
   "codemirror_mode": {
    "name": "ipython",
    "version": 3
   },
   "file_extension": ".py",
   "mimetype": "text/x-python",
   "name": "python",
   "nbconvert_exporter": "python",
   "pygments_lexer": "ipython3",
   "version": "3.7.3"
  }
 },
 "nbformat": 4,
 "nbformat_minor": 2
}
